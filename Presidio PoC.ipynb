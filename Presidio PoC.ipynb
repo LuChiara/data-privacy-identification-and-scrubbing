{
 "cells": [
  {
   "cell_type": "markdown",
   "metadata": {},
   "source": [
    "# Presidio PoC"
   ]
  },
  {
   "cell_type": "markdown",
   "metadata": {},
   "source": [
    "## Installation"
   ]
  },
  {
   "cell_type": "code",
   "execution_count": 24,
   "metadata": {},
   "outputs": [],
   "source": [
    "#!pip install presidio_analyzer\n",
    "#!pip install presidio_anonymizer\n",
    "#!python -m spacy download en_core_web_lg"
   ]
  },
  {
   "cell_type": "code",
   "execution_count": 25,
   "metadata": {},
   "outputs": [],
   "source": [
    "import pandas as pd\n",
    "import random\n",
    "\n",
    "from typing import List, Optional, Dict, Union, Iterator, Iterable\n",
    "import collections\n",
    "from dataclasses import dataclass\n",
    "import pprint\n",
    "\n",
    "from presidio_analyzer import AnalyzerEngine, BatchAnalyzerEngine, RecognizerResult, DictAnalyzerResult\n",
    "from presidio_anonymizer import AnonymizerEngine, BatchAnonymizerEngine\n",
    "from presidio_anonymizer.entities import EngineResult"
   ]
  },
  {
   "cell_type": "code",
   "execution_count": null,
   "metadata": {},
   "outputs": [
    {
     "data": {
      "application/vnd.microsoft.datawrangler.viewer.v0+json": {
       "columns": [
        {
         "name": "index",
         "rawType": "int64",
         "type": "integer"
        },
        {
         "name": "First and Last Name",
         "rawType": "object",
         "type": "string"
        },
        {
         "name": "SSN",
         "rawType": "object",
         "type": "string"
        },
        {
         "name": "Credit Card Number",
         "rawType": "object",
         "type": "string"
        }
       ],
       "conversionMethod": "pd.DataFrame",
       "ref": "d9f17fbb-858e-4b22-8911-76bc2d7f1fad",
       "rows": [
        [
         "1",
         "Robert Aragon",
         "489-36-8350",
         "4929-3813-3266-4295"
        ],
        [
         "2",
         "Ashley Borden",
         "514-14-8905",
         "5370-4638-8881-3020"
        ],
        [
         "3",
         "Thomas Conley",
         "690-05-5315",
         "4916-4811-5814-8111"
        ],
        [
         "4",
         "Susan Davis",
         "421-37-1396",
         "4916-4034-9269-8783"
        ],
        [
         "5",
         "Christopher Diaz",
         "458-02-6124",
         "5299-1561-5689-1938"
        ]
       ],
       "shape": {
        "columns": 3,
        "rows": 5
       }
      },
      "text/html": [
       "<div>\n",
       "<style scoped>\n",
       "    .dataframe tbody tr th:only-of-type {\n",
       "        vertical-align: middle;\n",
       "    }\n",
       "\n",
       "    .dataframe tbody tr th {\n",
       "        vertical-align: top;\n",
       "    }\n",
       "\n",
       "    .dataframe thead th {\n",
       "        text-align: right;\n",
       "    }\n",
       "</style>\n",
       "<table border=\"1\" class=\"dataframe\">\n",
       "  <thead>\n",
       "    <tr style=\"text-align: right;\">\n",
       "      <th></th>\n",
       "      <th>First and Last Name</th>\n",
       "      <th>SSN</th>\n",
       "      <th>Credit Card Number</th>\n",
       "    </tr>\n",
       "  </thead>\n",
       "  <tbody>\n",
       "    <tr>\n",
       "      <th>1</th>\n",
       "      <td>Robert Aragon</td>\n",
       "      <td>489-36-8350</td>\n",
       "      <td>4929-3813-3266-4295</td>\n",
       "    </tr>\n",
       "    <tr>\n",
       "      <th>2</th>\n",
       "      <td>Ashley Borden</td>\n",
       "      <td>514-14-8905</td>\n",
       "      <td>5370-4638-8881-3020</td>\n",
       "    </tr>\n",
       "    <tr>\n",
       "      <th>3</th>\n",
       "      <td>Thomas Conley</td>\n",
       "      <td>690-05-5315</td>\n",
       "      <td>4916-4811-5814-8111</td>\n",
       "    </tr>\n",
       "    <tr>\n",
       "      <th>4</th>\n",
       "      <td>Susan Davis</td>\n",
       "      <td>421-37-1396</td>\n",
       "      <td>4916-4034-9269-8783</td>\n",
       "    </tr>\n",
       "    <tr>\n",
       "      <th>5</th>\n",
       "      <td>Christopher Diaz</td>\n",
       "      <td>458-02-6124</td>\n",
       "      <td>5299-1561-5689-1938</td>\n",
       "    </tr>\n",
       "  </tbody>\n",
       "</table>\n",
       "</div>"
      ],
      "text/plain": [
       "  First and Last Name          SSN   Credit Card Number\n",
       "1       Robert Aragon  489-36-8350  4929-3813-3266-4295\n",
       "2       Ashley Borden  514-14-8905  5370-4638-8881-3020\n",
       "3       Thomas Conley  690-05-5315  4916-4811-5814-8111\n",
       "4         Susan Davis  421-37-1396  4916-4034-9269-8783\n",
       "5    Christopher Diaz  458-02-6124  5299-1561-5689-1938"
      ]
     },
     "execution_count": 26,
     "metadata": {},
     "output_type": "execute_result"
    }
   ],
   "source": [
    "# Load data \n",
    "test_data = pd.read_excel('path/1-MB-Test.xlsx', sheet_name='Sheet1', header=0)\n",
    "test_data = test_data.drop([0])\n",
    "test_data.head()"
   ]
  },
  {
   "cell_type": "code",
   "execution_count": 27,
   "metadata": {},
   "outputs": [
    {
     "data": {
      "application/vnd.microsoft.datawrangler.viewer.v0+json": {
       "columns": [
        {
         "name": "index",
         "rawType": "int64",
         "type": "integer"
        },
        {
         "name": "First and Last Name",
         "rawType": "object",
         "type": "string"
        },
        {
         "name": "SSN",
         "rawType": "object",
         "type": "string"
        },
        {
         "name": "Credit Card Number",
         "rawType": "object",
         "type": "string"
        },
        {
         "name": "ID",
         "rawType": "int64",
         "type": "integer"
        },
        {
         "name": "Store",
         "rawType": "object",
         "type": "string"
        },
        {
         "name": "Date",
         "rawType": "datetime64[ns]",
         "type": "datetime"
        },
        {
         "name": "Amount",
         "rawType": "int64",
         "type": "integer"
        },
        {
         "name": "Price",
         "rawType": "int64",
         "type": "integer"
        },
        {
         "name": "Total",
         "rawType": "int64",
         "type": "integer"
        }
       ],
       "conversionMethod": "pd.DataFrame",
       "ref": "dbaddb43-587d-4cf6-974f-3507f8ddf051",
       "rows": [
        [
         "0",
         "Robert Aragon",
         "489-36-8350",
         "4929-3813-3266-4295",
         "1",
         "YUL Airport",
         "2024-01-01 00:00:00",
         "2",
         "54",
         "108"
        ],
        [
         "1",
         "Ashley Borden",
         "514-14-8905",
         "5370-4638-8881-3020",
         "2",
         "YUL Airport",
         "2024-01-02 00:00:00",
         "5",
         "185",
         "925"
        ],
        [
         "2",
         "Thomas Conley",
         "690-05-5315",
         "4916-4811-5814-8111",
         "3",
         "E-comm",
         "2024-01-03 00:00:00",
         "10",
         "105",
         "1050"
        ],
        [
         "3",
         "Susan Davis",
         "421-37-1396",
         "4916-4034-9269-8783",
         "4",
         "Eaton Toronto",
         "2024-01-04 00:00:00",
         "6",
         "129",
         "774"
        ],
        [
         "4",
         "Christopher Diaz",
         "458-02-6124",
         "5299-1561-5689-1938",
         "5",
         "E-comm",
         "2024-01-05 00:00:00",
         "19",
         "126",
         "2394"
        ]
       ],
       "shape": {
        "columns": 9,
        "rows": 5
       }
      },
      "text/html": [
       "<div>\n",
       "<style scoped>\n",
       "    .dataframe tbody tr th:only-of-type {\n",
       "        vertical-align: middle;\n",
       "    }\n",
       "\n",
       "    .dataframe tbody tr th {\n",
       "        vertical-align: top;\n",
       "    }\n",
       "\n",
       "    .dataframe thead th {\n",
       "        text-align: right;\n",
       "    }\n",
       "</style>\n",
       "<table border=\"1\" class=\"dataframe\">\n",
       "  <thead>\n",
       "    <tr style=\"text-align: right;\">\n",
       "      <th></th>\n",
       "      <th>First and Last Name</th>\n",
       "      <th>SSN</th>\n",
       "      <th>Credit Card Number</th>\n",
       "      <th>ID</th>\n",
       "      <th>Store</th>\n",
       "      <th>Date</th>\n",
       "      <th>Amount</th>\n",
       "      <th>Price</th>\n",
       "      <th>Total</th>\n",
       "    </tr>\n",
       "  </thead>\n",
       "  <tbody>\n",
       "    <tr>\n",
       "      <th>0</th>\n",
       "      <td>Robert Aragon</td>\n",
       "      <td>489-36-8350</td>\n",
       "      <td>4929-3813-3266-4295</td>\n",
       "      <td>1</td>\n",
       "      <td>YUL Airport</td>\n",
       "      <td>2024-01-01</td>\n",
       "      <td>2</td>\n",
       "      <td>54</td>\n",
       "      <td>108</td>\n",
       "    </tr>\n",
       "    <tr>\n",
       "      <th>1</th>\n",
       "      <td>Ashley Borden</td>\n",
       "      <td>514-14-8905</td>\n",
       "      <td>5370-4638-8881-3020</td>\n",
       "      <td>2</td>\n",
       "      <td>YUL Airport</td>\n",
       "      <td>2024-01-02</td>\n",
       "      <td>5</td>\n",
       "      <td>185</td>\n",
       "      <td>925</td>\n",
       "    </tr>\n",
       "    <tr>\n",
       "      <th>2</th>\n",
       "      <td>Thomas Conley</td>\n",
       "      <td>690-05-5315</td>\n",
       "      <td>4916-4811-5814-8111</td>\n",
       "      <td>3</td>\n",
       "      <td>E-comm</td>\n",
       "      <td>2024-01-03</td>\n",
       "      <td>10</td>\n",
       "      <td>105</td>\n",
       "      <td>1050</td>\n",
       "    </tr>\n",
       "    <tr>\n",
       "      <th>3</th>\n",
       "      <td>Susan Davis</td>\n",
       "      <td>421-37-1396</td>\n",
       "      <td>4916-4034-9269-8783</td>\n",
       "      <td>4</td>\n",
       "      <td>Eaton Toronto</td>\n",
       "      <td>2024-01-04</td>\n",
       "      <td>6</td>\n",
       "      <td>129</td>\n",
       "      <td>774</td>\n",
       "    </tr>\n",
       "    <tr>\n",
       "      <th>4</th>\n",
       "      <td>Christopher Diaz</td>\n",
       "      <td>458-02-6124</td>\n",
       "      <td>5299-1561-5689-1938</td>\n",
       "      <td>5</td>\n",
       "      <td>E-comm</td>\n",
       "      <td>2024-01-05</td>\n",
       "      <td>19</td>\n",
       "      <td>126</td>\n",
       "      <td>2394</td>\n",
       "    </tr>\n",
       "  </tbody>\n",
       "</table>\n",
       "</div>"
      ],
      "text/plain": [
       "  First and Last Name          SSN   Credit Card Number  ID          Store  \\\n",
       "0       Robert Aragon  489-36-8350  4929-3813-3266-4295   1    YUL Airport   \n",
       "1       Ashley Borden  514-14-8905  5370-4638-8881-3020   2    YUL Airport   \n",
       "2       Thomas Conley  690-05-5315  4916-4811-5814-8111   3         E-comm   \n",
       "3         Susan Davis  421-37-1396  4916-4034-9269-8783   4  Eaton Toronto   \n",
       "4    Christopher Diaz  458-02-6124  5299-1561-5689-1938   5         E-comm   \n",
       "\n",
       "        Date  Amount  Price  Total  \n",
       "0 2024-01-01       2     54    108  \n",
       "1 2024-01-02       5    185    925  \n",
       "2 2024-01-03      10    105   1050  \n",
       "3 2024-01-04       6    129    774  \n",
       "4 2024-01-05      19    126   2394  "
      ]
     },
     "execution_count": 27,
     "metadata": {},
     "output_type": "execute_result"
    }
   ],
   "source": [
    "\n",
    "# Preprocess data:\n",
    "def preprocess_data(data):\n",
    "    data = data.dropna()\n",
    "    data = data.drop_duplicates()\n",
    "\n",
    "    # Add ID column\n",
    "    data['ID'] = range(1, len(data) + 1)\n",
    "\n",
    "    # Add store column randomly from a list of stores\n",
    "    stores = ['Eaton Toronto', 'YUL Airport', 'Nordstrom NY', 'Yorkdale', 'E-comm']\n",
    "    data['Store'] = random.choices(stores, k=len(data))\n",
    "\n",
    "    # Add random date\n",
    "    data['Date'] = pd.date_range(start='1/1/2024', periods=len(data))\n",
    "\n",
    "    # Add random amount of shoes bought\n",
    "    data['Amount'] = [random.randint(-2, 20) for i in range(len(data))]\n",
    "\n",
    "    # Add random price\n",
    "    data['Price'] = [random.randint(10, 200) for i in range(len(data))]\n",
    "\n",
    "    # Add total\n",
    "    data['Total'] = data['Amount'] * data['Price']\n",
    "\n",
    "    data = data.reset_index(drop=True)\n",
    "    return data\n",
    "\n",
    "test_data = preprocess_data(test_data).head()\n",
    "test_data.head()"
   ]
  },
  {
   "cell_type": "markdown",
   "metadata": {},
   "source": [
    "### Expected Outcomes\n",
    "* First and last names get anonymized\n",
    "* SSN is anonymized\n",
    "* Credit card is anonymized"
   ]
  },
  {
   "cell_type": "code",
   "execution_count": 28,
   "metadata": {},
   "outputs": [
    {
     "data": {
      "text/plain": [
       "{'First and Last Name': ['Robert\\xa0Aragon',\n",
       "  'Ashley\\xa0Borden',\n",
       "  'Thomas\\xa0Conley',\n",
       "  'Susan\\xa0Davis',\n",
       "  'Christopher\\xa0Diaz'],\n",
       " 'SSN': ['489-36-8350',\n",
       "  '514-14-8905',\n",
       "  '690-05-5315',\n",
       "  '421-37-1396',\n",
       "  '458-02-6124'],\n",
       " 'Credit Card Number': ['4929-3813-3266-4295',\n",
       "  '5370-4638-8881-3020',\n",
       "  '4916-4811-5814-8111',\n",
       "  '4916-4034-9269-8783',\n",
       "  '5299-1561-5689-1938'],\n",
       " 'ID': [1, 2, 3, 4, 5],\n",
       " 'Store': ['YUL Airport', 'YUL Airport', 'E-comm', 'Eaton Toronto', 'E-comm'],\n",
       " 'Date': [Timestamp('2024-01-01 00:00:00'),\n",
       "  Timestamp('2024-01-02 00:00:00'),\n",
       "  Timestamp('2024-01-03 00:00:00'),\n",
       "  Timestamp('2024-01-04 00:00:00'),\n",
       "  Timestamp('2024-01-05 00:00:00')],\n",
       " 'Amount': [2, 5, 10, 6, 19],\n",
       " 'Price': [54, 185, 105, 129, 126],\n",
       " 'Total': [108, 925, 1050, 774, 2394]}"
      ]
     },
     "execution_count": 28,
     "metadata": {},
     "output_type": "execute_result"
    }
   ],
   "source": [
    "# DataFrame to dict\n",
    "df_dict = test_data.to_dict(orient=\"list\")\n",
    "df_dict"
   ]
  },
  {
   "cell_type": "code",
   "execution_count": 29,
   "metadata": {},
   "outputs": [
    {
     "data": {
      "text/plain": [
       "[DictAnalyzerResult(key='First and Last Name', value=['Robert\\xa0Aragon', 'Ashley\\xa0Borden', 'Thomas\\xa0Conley', 'Susan\\xa0Davis', 'Christopher\\xa0Diaz'], recognizer_results=[[type: PERSON, start: 0, end: 13, score: 0.85], [type: PERSON, start: 0, end: 13, score: 0.85], [type: PERSON, start: 0, end: 13, score: 0.85], [type: PERSON, start: 0, end: 11, score: 0.85], [type: PERSON, start: 0, end: 16, score: 0.85]]),\n",
       " DictAnalyzerResult(key='SSN', value=['489-36-8350', '514-14-8905', '690-05-5315', '421-37-1396', '458-02-6124'], recognizer_results=[[type: US_SSN, start: 0, end: 11, score: 0.85], [type: US_SSN, start: 0, end: 11, score: 0.85], [type: US_SSN, start: 0, end: 11, score: 0.85], [type: US_SSN, start: 0, end: 11, score: 0.85], [type: US_SSN, start: 0, end: 11, score: 0.85]]),\n",
       " DictAnalyzerResult(key='Credit Card Number', value=['4929-3813-3266-4295', '5370-4638-8881-3020', '4916-4811-5814-8111', '4916-4034-9269-8783', '5299-1561-5689-1938'], recognizer_results=[[type: CREDIT_CARD, start: 0, end: 19, score: 1.0, type: PHONE_NUMBER, start: 0, end: 19, score: 0.75], [type: CREDIT_CARD, start: 0, end: 19, score: 1.0], [type: CREDIT_CARD, start: 0, end: 19, score: 1.0], [type: CREDIT_CARD, start: 0, end: 19, score: 1.0], [type: CREDIT_CARD, start: 0, end: 19, score: 1.0]]),\n",
       " DictAnalyzerResult(key='ID', value=[1, 2, 3, 4, 5], recognizer_results=[[], [], [], [], []]),\n",
       " DictAnalyzerResult(key='Store', value=['YUL Airport', 'YUL Airport', 'E-comm', 'Eaton Toronto', 'E-comm'], recognizer_results=[]),\n",
       " DictAnalyzerResult(key='Date', value=[Timestamp('2024-01-01 00:00:00'), Timestamp('2024-01-02 00:00:00'), Timestamp('2024-01-03 00:00:00'), Timestamp('2024-01-04 00:00:00'), Timestamp('2024-01-05 00:00:00')], recognizer_results=[]),\n",
       " DictAnalyzerResult(key='Amount', value=[2, 5, 10, 6, 19], recognizer_results=[[], [], [], [], []]),\n",
       " DictAnalyzerResult(key='Price', value=[54, 185, 105, 129, 126], recognizer_results=[[], [], [], [], []]),\n",
       " DictAnalyzerResult(key='Total', value=[108, 925, 1050, 774, 2394], recognizer_results=[])]"
      ]
     },
     "execution_count": 29,
     "metadata": {},
     "output_type": "execute_result"
    }
   ],
   "source": [
    "analyzer = AnalyzerEngine()\n",
    "batch_analyzer = BatchAnalyzerEngine(analyzer_engine=analyzer)\n",
    "batch_anonymizer = BatchAnonymizerEngine()\n",
    "\n",
    "keys_to_skip=[\"Store\", \"Date\", \"Amount Price\", \"Total\"]\n",
    "\n",
    "# Analyze the filtered data\n",
    "analyzer_results = batch_analyzer.analyze_dict(df_dict, language=\"en\", keys_to_skip=keys_to_skip)\n",
    "analyzer_results = list(analyzer_results)\n",
    "analyzer_results"
   ]
  },
  {
   "cell_type": "code",
   "execution_count": 30,
   "metadata": {},
   "outputs": [
    {
     "data": {
      "application/vnd.microsoft.datawrangler.viewer.v0+json": {
       "columns": [
        {
         "name": "index",
         "rawType": "int64",
         "type": "integer"
        },
        {
         "name": "First and Last Name",
         "rawType": "object",
         "type": "string"
        },
        {
         "name": "SSN",
         "rawType": "object",
         "type": "string"
        },
        {
         "name": "Credit Card Number",
         "rawType": "object",
         "type": "string"
        },
        {
         "name": "ID",
         "rawType": "object",
         "type": "string"
        },
        {
         "name": "Store",
         "rawType": "object",
         "type": "string"
        },
        {
         "name": "Date",
         "rawType": "datetime64[ns]",
         "type": "datetime"
        },
        {
         "name": "Amount",
         "rawType": "object",
         "type": "string"
        },
        {
         "name": "Price",
         "rawType": "object",
         "type": "string"
        },
        {
         "name": "Total",
         "rawType": "object",
         "type": "string"
        }
       ],
       "conversionMethod": "pd.DataFrame",
       "ref": "aee41ab4-b44a-4cc8-a852-e018dfa22f6f",
       "rows": [
        [
         "0",
         "<PERSON>",
         "<US_SSN>",
         "<CREDIT_CARD>",
         "1",
         "YUL Airport",
         "2024-01-01 00:00:00",
         "2",
         "54",
         "108"
        ],
        [
         "1",
         "<PERSON>",
         "<US_SSN>",
         "<CREDIT_CARD>",
         "2",
         "YUL Airport",
         "2024-01-02 00:00:00",
         "5",
         "185",
         "925"
        ],
        [
         "2",
         "<PERSON>",
         "<US_SSN>",
         "<CREDIT_CARD>",
         "3",
         "E-comm",
         "2024-01-03 00:00:00",
         "10",
         "105",
         "1050"
        ],
        [
         "3",
         "<PERSON>",
         "<US_SSN>",
         "<CREDIT_CARD>",
         "4",
         "Eaton Toronto",
         "2024-01-04 00:00:00",
         "6",
         "129",
         "774"
        ],
        [
         "4",
         "<PERSON>",
         "<US_SSN>",
         "<CREDIT_CARD>",
         "5",
         "E-comm",
         "2024-01-05 00:00:00",
         "19",
         "126",
         "2394"
        ]
       ],
       "shape": {
        "columns": 9,
        "rows": 5
       }
      },
      "text/html": [
       "<div>\n",
       "<style scoped>\n",
       "    .dataframe tbody tr th:only-of-type {\n",
       "        vertical-align: middle;\n",
       "    }\n",
       "\n",
       "    .dataframe tbody tr th {\n",
       "        vertical-align: top;\n",
       "    }\n",
       "\n",
       "    .dataframe thead th {\n",
       "        text-align: right;\n",
       "    }\n",
       "</style>\n",
       "<table border=\"1\" class=\"dataframe\">\n",
       "  <thead>\n",
       "    <tr style=\"text-align: right;\">\n",
       "      <th></th>\n",
       "      <th>First and Last Name</th>\n",
       "      <th>SSN</th>\n",
       "      <th>Credit Card Number</th>\n",
       "      <th>ID</th>\n",
       "      <th>Store</th>\n",
       "      <th>Date</th>\n",
       "      <th>Amount</th>\n",
       "      <th>Price</th>\n",
       "      <th>Total</th>\n",
       "    </tr>\n",
       "  </thead>\n",
       "  <tbody>\n",
       "    <tr>\n",
       "      <th>0</th>\n",
       "      <td>&lt;PERSON&gt;</td>\n",
       "      <td>&lt;US_SSN&gt;</td>\n",
       "      <td>&lt;CREDIT_CARD&gt;</td>\n",
       "      <td>1</td>\n",
       "      <td>YUL Airport</td>\n",
       "      <td>2024-01-01</td>\n",
       "      <td>2</td>\n",
       "      <td>54</td>\n",
       "      <td>108</td>\n",
       "    </tr>\n",
       "    <tr>\n",
       "      <th>1</th>\n",
       "      <td>&lt;PERSON&gt;</td>\n",
       "      <td>&lt;US_SSN&gt;</td>\n",
       "      <td>&lt;CREDIT_CARD&gt;</td>\n",
       "      <td>2</td>\n",
       "      <td>YUL Airport</td>\n",
       "      <td>2024-01-02</td>\n",
       "      <td>5</td>\n",
       "      <td>185</td>\n",
       "      <td>925</td>\n",
       "    </tr>\n",
       "    <tr>\n",
       "      <th>2</th>\n",
       "      <td>&lt;PERSON&gt;</td>\n",
       "      <td>&lt;US_SSN&gt;</td>\n",
       "      <td>&lt;CREDIT_CARD&gt;</td>\n",
       "      <td>3</td>\n",
       "      <td>E-comm</td>\n",
       "      <td>2024-01-03</td>\n",
       "      <td>10</td>\n",
       "      <td>105</td>\n",
       "      <td>1050</td>\n",
       "    </tr>\n",
       "    <tr>\n",
       "      <th>3</th>\n",
       "      <td>&lt;PERSON&gt;</td>\n",
       "      <td>&lt;US_SSN&gt;</td>\n",
       "      <td>&lt;CREDIT_CARD&gt;</td>\n",
       "      <td>4</td>\n",
       "      <td>Eaton Toronto</td>\n",
       "      <td>2024-01-04</td>\n",
       "      <td>6</td>\n",
       "      <td>129</td>\n",
       "      <td>774</td>\n",
       "    </tr>\n",
       "    <tr>\n",
       "      <th>4</th>\n",
       "      <td>&lt;PERSON&gt;</td>\n",
       "      <td>&lt;US_SSN&gt;</td>\n",
       "      <td>&lt;CREDIT_CARD&gt;</td>\n",
       "      <td>5</td>\n",
       "      <td>E-comm</td>\n",
       "      <td>2024-01-05</td>\n",
       "      <td>19</td>\n",
       "      <td>126</td>\n",
       "      <td>2394</td>\n",
       "    </tr>\n",
       "  </tbody>\n",
       "</table>\n",
       "</div>"
      ],
      "text/plain": [
       "  First and Last Name       SSN Credit Card Number ID          Store  \\\n",
       "0            <PERSON>  <US_SSN>      <CREDIT_CARD>  1    YUL Airport   \n",
       "1            <PERSON>  <US_SSN>      <CREDIT_CARD>  2    YUL Airport   \n",
       "2            <PERSON>  <US_SSN>      <CREDIT_CARD>  3         E-comm   \n",
       "3            <PERSON>  <US_SSN>      <CREDIT_CARD>  4  Eaton Toronto   \n",
       "4            <PERSON>  <US_SSN>      <CREDIT_CARD>  5         E-comm   \n",
       "\n",
       "        Date Amount Price Total  \n",
       "0 2024-01-01      2    54   108  \n",
       "1 2024-01-02      5   185   925  \n",
       "2 2024-01-03     10   105  1050  \n",
       "3 2024-01-04      6   129   774  \n",
       "4 2024-01-05     19   126  2394  "
      ]
     },
     "execution_count": 30,
     "metadata": {},
     "output_type": "execute_result"
    }
   ],
   "source": [
    "anonymizer_results = batch_anonymizer.anonymize_dict(analyzer_results)\n",
    "scrubbed_df = pd.DataFrame(anonymizer_results)\n",
    "scrubbed_df.head()"
   ]
  }
 ],
 "metadata": {
  "kernelspec": {
   "display_name": "base",
   "language": "python",
   "name": "python3"
  },
  "language_info": {
   "codemirror_mode": {
    "name": "ipython",
    "version": 3
   },
   "file_extension": ".py",
   "mimetype": "text/x-python",
   "name": "python",
   "nbconvert_exporter": "python",
   "pygments_lexer": "ipython3",
   "version": "3.11.4"
  }
 },
 "nbformat": 4,
 "nbformat_minor": 2
}
